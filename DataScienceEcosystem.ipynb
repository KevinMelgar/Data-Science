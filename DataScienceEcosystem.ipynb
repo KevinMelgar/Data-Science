{
 "cells": [
  {
   "cell_type": "markdown",
   "id": "b0551c89-9f26-45a0-82ad-268b2701adeb",
   "metadata": {},
   "source": [
    "## Author\n",
    "## Kevin Eduardo Cervantes Melgar"
   ]
  },
  {
   "cell_type": "markdown",
   "id": "de3ed49b-17cb-4470-bc22-dc5334307b1c",
   "metadata": {},
   "source": [
    "**Data Science Tools and Ecosystem**"
   ]
  },
  {
   "cell_type": "markdown",
   "id": "d45f6e4c-aee7-4745-b4ea-e2ccd0771a3a",
   "metadata": {},
   "source": [
    "_In this notebook, Data Science Tools and Ecosystem are summarized._\n",
    "\n",
    "Objectives:\n",
    "* List popular languages for Data Science\n",
    "* Commonly used libraries used by Data Scientists\n",
    "* Data Science tools\n"
   ]
  },
  {
   "cell_type": "markdown",
   "id": "8d30ea54-7164-40c2-87bf-2ef0b62227ce",
   "metadata": {
    "tags": []
   },
   "source": [
    "Some of the popular languages that Data Scientists use are:\n",
    "1. Python\n",
    "2. R\n",
    "3. SQL"
   ]
  },
  {
   "cell_type": "markdown",
   "id": "b3563807-adbc-45e6-b652-df0b350b0fd4",
   "metadata": {},
   "source": [
    "Some of the commonly used libraries used by Data Scientists include:\n",
    "\n",
    "1. Pandas\n",
    "2. NumPY\n",
    "3. Matplotlib\n",
    "4. Seaborn\n",
    "5. TensorFlow\n",
    "6. Scikit-learn"
   ]
  },
  {
   "cell_type": "markdown",
   "id": "736176f8-a56d-4527-bfd7-abf32d1cf0de",
   "metadata": {},
   "source": [
    "**Table 1: Data Science tools.**\n",
    "| Tool                            | Description                                                  |\n",
    "|---------------------------------|--------------------------------------------------------------|\n",
    "| **Programming Languages**       |                                                              |\n",
    "| Python                          | The primary language for data science with various libraries |\n",
    "| R                               | Commonly used for statistical analysis and visualization    |\n",
    "| **Integrated Development Environments (IDEs)** |                   |\n",
    "| Jupyter Notebook                | Interactive environment for data analysis and code sharing  |\n",
    "| PyCharm                         | Integrated IDE for Python development                       |\n",
    "| **Data Manipulation and Analysis** |                                |\n",
    "| pandas                          | Data manipulation and analysis library for Python           |\n",
    "| NumPy                           | Support for numerical operations and arrays                 |\n",
    "| SQL                             | Structured Query Language for database management           |\n",
    "| **Data Visualization**          |                                                              |\n",
    "| Matplotlib                      | 2D plotting library for creating static and interactive plots |\n",
    "| Seaborn                         | High-level interface for statistical graphics               |\n",
    "| Plotly                          | Library for creating interactive web-based visualizations   |\n",
    "| **Machine Learning and Deep Learning** |                           |\n",
    "| scikit-learn                    | Library for traditional machine learning algorithms         |\n",
    "| TensorFlow and Keras            | Popular for deep learning model development                  |\n",
    "| PyTorch                         | Widely used for deep learning, particularly in research     |\n",
    "| **Big Data Tools**              |                                                              |\n",
    "| Hadoop                          | Framework for distributed storage and processing            |\n",
    "| Spark                           | Cluster computing system with MLlib for machine learning    |\n",
    "| **Database Management**         |                                                              |\n",
    "| MySQL, PostgreSQL, Oracle, SQL Server | Relational databases for structured data             |\n",
    "| MongoDB, Cassandra, Redis       | NoSQL databases for unstructured or semi-structured data   |\n",
    "| **Data Preparation and Cleaning** |                             |\n",
    "| OpenRefine                      | Tool for cleaning and transforming messy data               |\n",
    "| Trifacta                        | Data wrangling tool for data cleaning and preparation       |\n",
    "| **Version Control**             |                                                              |\n",
    "| Git                             | Essential for tracking code changes and collaboration       |\n",
    "| **Cloud Platforms**             |                                                              |\n",
    "| AWS, Google Cloud, Azure        | Cloud providers offering data services and infrastructure   |\n",
    "| **Containerization and Orchestration** |                        |\n",
    "| Docker                          | Containerization tool for applications                      |\n",
    "| Kubernetes                      | Orchestration and management of containerized applications  |\n",
    "| **Statistical Analysis**        |                                                              |\n",
    "| R                               | Statistical analysis and data visualization language        |\n",
    "| **Text Analysis and NLP**       |                                                              |\n",
    "| NLTK                            | Natural Language Toolkit for NLP in Python                  |\n",
    "| spaCy                           | Industrial-strength NLP library for Python                   |\n",
    "| **Data Mining and ETL**         |                                                              |\n",
    "| Apache Nifi                     | Open-source tool for data integration and transformation    |\n",
    "| Knime                           | Visual data analytics platform for ETL and ML               |\n",
    "| **Notebook Sharing and Collaboration** |                       |\n",
    "| Google Colab                    | Cloud-based Jupyter notebook platform                        |\n",
    "| Databricks                      | Collaborative platform for big data and ML                   |\n",
    "| **Statistical Software**        |                                                              |\n",
    "| SAS                             | Statistical Analysis System software widely used in certain industries |\n"
   ]
  },
  {
   "cell_type": "markdown",
   "id": "e0f3e731-8839-402d-b94f-7ce410937903",
   "metadata": {},
   "source": [
    "Below are a few examples of evaluating arithmetic expressions in Python"
   ]
  },
  {
   "cell_type": "code",
   "execution_count": 14,
   "id": "e9ee1d18-d1f1-4704-8366-d0110639acfc",
   "metadata": {
    "tags": []
   },
   "outputs": [
    {
     "name": "stdout",
     "output_type": "stream",
     "text": [
      "Addition (+): 110\n",
      "Subtraction (-): -90\n",
      "Multiplication (*): 1000\n",
      "Division (/): 0.1\n"
     ]
    }
   ],
   "source": [
    "#Variables\n",
    "a =10\n",
    "b =100\n",
    "#Addition (+):\n",
    "print(\"Addition (+):\",a+b)\n",
    "#Subtraction (-):\n",
    "print(\"Subtraction (-):\",a-b)\n",
    "#Multiplication (*):\n",
    "print(\"Multiplication (*):\",a*b)\n",
    "#Division (/):\n",
    "print(\"Division (/):\",a/b)"
   ]
  },
  {
   "cell_type": "markdown",
   "id": "c946cadc-ada1-4272-a486-729757c4163b",
   "metadata": {},
   "source": [
    "This a simple arithmetic expression to mutiply then add integers"
   ]
  },
  {
   "cell_type": "code",
   "execution_count": 15,
   "id": "57b87442-d545-4b6e-92ba-670b6902c301",
   "metadata": {
    "tags": []
   },
   "outputs": [
    {
     "name": "stdout",
     "output_type": "stream",
     "text": [
      "mutiply then add integers: 17\n"
     ]
    }
   ],
   "source": [
    "print(\"mutiply then add integers:\",(3*4)+5)"
   ]
  },
  {
   "cell_type": "markdown",
   "id": "6b17f911-df36-4833-a79d-776c6920db6e",
   "metadata": {},
   "source": [
    "This will convert 200 minutes to hours by diving by 60"
   ]
  },
  {
   "cell_type": "code",
   "execution_count": 16,
   "id": "100eaaf9-a8b9-4190-bbb5-3f2107ab64d1",
   "metadata": {
    "tags": []
   },
   "outputs": [
    {
     "name": "stdout",
     "output_type": "stream",
     "text": [
      "200 minites = 3.3333333333333335 hours\n"
     ]
    }
   ],
   "source": [
    "#A hour have 60 minutes\n",
    "h = 60\n",
    "minutes = 200\n",
    "#operation \n",
    "hour = minutes/h\n",
    "print(f\"{minutes} minites =\",hour,\"hours\")\n"
   ]
  },
  {
   "cell_type": "code",
   "execution_count": null,
   "id": "ddca9d7b-a2ce-45b2-9d4b-776cdef34599",
   "metadata": {},
   "outputs": [],
   "source": []
  }
 ],
 "metadata": {
  "kernelspec": {
   "display_name": "Python",
   "language": "python",
   "name": "conda-env-python-py"
  },
  "language_info": {
   "codemirror_mode": {
    "name": "ipython",
    "version": 3
   },
   "file_extension": ".py",
   "mimetype": "text/x-python",
   "name": "python",
   "nbconvert_exporter": "python",
   "pygments_lexer": "ipython3",
   "version": "3.7.12"
  }
 },
 "nbformat": 4,
 "nbformat_minor": 5
}
